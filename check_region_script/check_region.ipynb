{
 "cells": [
  {
   "cell_type": "markdown",
   "metadata": {},
   "source": [
    "# Draw BBOX"
   ]
  },
  {
   "cell_type": "code",
   "execution_count": 1,
   "metadata": {},
   "outputs": [
    {
     "name": "stdout",
     "output_type": "stream",
     "text": [
      "Bounding box coordinates: Point-to-Point: (623, 688) to (1244, 822)\n",
      "Bounding box coordinates: x-y-w-h: (623, 688, 621, 134)\n"
     ]
    }
   ],
   "source": [
    "import cv2\n",
    "\n",
    "# Global variables to store the points of the bounding box\n",
    "start_point = None\n",
    "end_point = None\n",
    "drawing = False\n",
    "\n",
    "def draw_rectangle(event, x, y, flags, param):\n",
    "    global start_point, end_point, drawing\n",
    "    \n",
    "    if event == cv2.EVENT_LBUTTONDOWN:\n",
    "        start_point = (x, y)\n",
    "        drawing = True\n",
    "    \n",
    "    elif event == cv2.EVENT_MOUSEMOVE:\n",
    "        if drawing:\n",
    "            end_point = (x, y)\n",
    "            # Create a copy of the image to draw on\n",
    "            img_copy = img.copy()\n",
    "            cv2.rectangle(img_copy, start_point, end_point, (0, 255, 0), 2)\n",
    "            cv2.imshow(\"Image\", img_copy)\n",
    "    \n",
    "    elif event == cv2.EVENT_LBUTTONUP:\n",
    "        end_point = (x, y)\n",
    "        drawing = False\n",
    "        cv2.rectangle(img, start_point, end_point, (0, 255, 0), 2)\n",
    "        cv2.imshow(\"Image\", img)\n",
    "        print(f\"Bounding box coordinates: Point-to-Point: {start_point} to {end_point}\")\n",
    "        print(f\"Bounding box coordinates: x-y-w-h: {start_point[0], start_point[1], end_point[0] - start_point[0], end_point[1] - start_point[1]}\")\n",
    "\n",
    "# Load an image\n",
    "image_path = 'sample.png'  # Update this with your image path\n",
    "img = cv2.imread(image_path)\n",
    "\n",
    "# Create a window and set the mouse callback function\n",
    "cv2.imshow(\"Image\", img)\n",
    "cv2.setMouseCallback(\"Image\", draw_rectangle)\n",
    "\n",
    "# Wait until a key is pressed\n",
    "cv2.waitKey(0)\n",
    "cv2.destroyAllWindows()\n"
   ]
  },
  {
   "cell_type": "markdown",
   "metadata": {},
   "source": [
    "# Show box "
   ]
  },
  {
   "cell_type": "code",
   "execution_count": null,
   "metadata": {},
   "outputs": [],
   "source": [
    "from PIL import Image, ImageDraw\n",
    "\n",
    "# Get user input for top, left, width, and length\n",
    "top = float(input(\"Enter top: \"))\n",
    "left = float(input(\"Enter left: \"))\n",
    "width = float(input(\"Enter width: \"))\n",
    "length = float(input(\"Enter length: \"))\n",
    "\n",
    "image_dir = \"sample.png\"\n",
    "# Load an example image (replace with your image path)\n",
    "image = Image.open(image_dir)\n",
    "\n",
    "# Create a copy of the image to draw on\n",
    "image_with_square = image.copy()\n",
    "\n",
    "# Draw a red square on the image\n",
    "draw = ImageDraw.Draw(image_with_square)\n",
    "draw.rectangle([left, top, left + width, top + length], outline='red', width=5)\n",
    "\n",
    "# Show the image with the red square\n",
    "image_with_square.show()"
   ]
  }
 ],
 "metadata": {
  "kernelspec": {
   "display_name": "base",
   "language": "python",
   "name": "python3"
  },
  "language_info": {
   "codemirror_mode": {
    "name": "ipython",
    "version": 3
   },
   "file_extension": ".py",
   "mimetype": "text/x-python",
   "name": "python",
   "nbconvert_exporter": "python",
   "pygments_lexer": "ipython3",
   "version": "3.11.5"
  }
 },
 "nbformat": 4,
 "nbformat_minor": 2
}
